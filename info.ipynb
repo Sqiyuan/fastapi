{
 "cells": [
  {
   "cell_type": "markdown",
   "metadata": {},
   "source": [
    "激活虚拟环境\n",
    "\n",
    "fastapi\\Scripts\\activate"
   ]
  }
 ],
 "metadata": {
  "language_info": {
   "name": "python"
  }
 },
 "nbformat": 4,
 "nbformat_minor": 2
}
