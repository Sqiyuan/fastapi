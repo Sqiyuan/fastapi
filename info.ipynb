{
 "cells": [
  {
   "cell_type": "markdown",
   "metadata": {},
   "source": [
    "激活虚拟环境\n",
    "\n",
    ".venv\\Scripts\\activate"
   ]
  },
  {
   "cell_type": "markdown",
   "metadata": {},
   "source": [
    "运行fastapi程序\n",
    "uvicorn main:app --reload\n",
    "\n",
    "开发环境可用\n",
    "fastapi dev --port 8080"
   ]
  },
  {
   "cell_type": "markdown",
   "metadata": {},
   "source": [
    "迁移数据库\n",
    "alembic revision --autogenerate -m \"\"\n",
    "\n",
    "alembic upgrade head"
   ]
  }
 ],
 "metadata": {
  "language_info": {
   "name": "python"
  }
 },
 "nbformat": 4,
 "nbformat_minor": 2
}
